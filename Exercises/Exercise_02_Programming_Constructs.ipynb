{
  "cells": [
    {
      "cell_type": "markdown",
      "metadata": {
        "id": "view-in-github",
        "colab_type": "text"
      },
      "source": [
        "<a href=\"https://colab.research.google.com/github/WDH-STU/self-note/blob/main/Exercises/Exercise_02_Programming_Constructs.ipynb\" target=\"_parent\"><img src=\"https://colab.research.google.com/assets/colab-badge.svg\" alt=\"Open In Colab\"/></a>"
      ]
    },
    {
      "cell_type": "markdown",
      "metadata": {
        "id": "alteCS5tBQUn"
      },
      "source": [
        "# Exercise 2\n",
        "\n",
        "Related Notes:\n",
        "- Chapter_01_Data_Types\n",
        "- Chapter_02_Programming_Constructs\n",
        "\n",
        "[![Open In Colab](https://colab.research.google.com/assets/colab-badge.svg)](https://colab.research.google.com/github/njc-cz2-2021/Materials/blob/main/Exercises/Exercise_02_Programming_Constructs.ipynb)"
      ]
    },
    {
      "cell_type": "markdown",
      "metadata": {
        "id": "gUyVdYNLBQUr"
      },
      "source": [
        "# Exercise 2.1 Unit Converter\n",
        "\n",
        "Write a program that helps the user to convert a given quantity from one unit of (distance, area or volume) measurement to another.\n",
        "\n",
        "The problem:\n",
        "-\tRequest a quantity from the user.\n",
        "-\tHave the user specify if the quantity is a `length`, `area` or `volume`.\n",
        "-\tHave the user select the base unit of measurement from the following list:\n",
        "    - `mm`,\n",
        "    - `cm`,\n",
        "    - `m`, or\n",
        "    - `km`.\n",
        "-\tThen have the user select the desired base unit of measurement that the given quantity should be converted to.\n",
        "-\tPrint out converted quantity (including the new unit of measurement).\n",
        "\n",
        "Example interaction:\n",
        "\n",
        ">``` text\n",
        ">Input a quantity: 10\n",
        ">Select either length, area or volume: area\n",
        ">Select the base unit of measurement (mm, cm, m, km) : m\n",
        ">Select which base unit of measurement to convert to (mm, cm, m, km) : cm\n",
        ">10 m^2 = 100000 cm^2\n",
        ">```"
      ]
    },
    {
      "cell_type": "code",
      "execution_count": null,
      "metadata": {
        "id": "kJ6GkBlkBQUs"
      },
      "outputs": [],
      "source": [
        "#YOUR CODE HERE"
      ]
    },
    {
      "cell_type": "markdown",
      "metadata": {
        "id": "XM9MD0doBQUu"
      },
      "source": [
        "# Exercise 2.2\n",
        "\n",
        "In mathematics, an **arithmetic sequence** is a sequence of real numbers\n",
        "$$u_1,u_2,\\cdots, u_n$$\n",
        "such that the difference between two consecutive terms is constant, i.e. $u_{n+1}-u_n=d$ for some constant $d\\in \\mathbb{R}$, called the **common difference** and $n\\geq 1$.\n",
        "\n",
        "For example, the sequence $2,5,8,11,14,\\dots$ is an arithmetic sequence with first term $2$ and common difference $3$.\n",
        "\n",
        "Write a program to generate the first $n$ terms of an arithmetic sequence with a user defined first term $a$ and common difference $d$.\n",
        "\n",
        "The problem:\n",
        "- Request a numeric input from the user to be used as the first term.  Let us denote this input as `first_term`.\n",
        "- Request a numeric input from the user to be used as the common difference.  Let us denote this input as `common_difference`.\n",
        "- Request an integer input from the user for the number of terms.  Let us denote this input as `number_of_terms`.\n",
        "- Print out the sequence up to the $n$th term.\n",
        "\n",
        "Example interaction:\n",
        "\n",
        ">``` text\n",
        ">Please input the first term in the arithmetic sequence:\n",
        ">2\n",
        ">Please input the common difference:\n",
        ">3\n",
        ">Please input the number of terms:\n",
        ">5\n",
        ">The first 5 terms of the arithmetic sequence are:\n",
        ">2\n",
        ">5\n",
        ">8\n",
        ">11\n",
        ">14\n",
        ">```"
      ]
    },
    {
      "cell_type": "code",
      "execution_count": 1,
      "metadata": {
        "id": "UfjKPphoBQUu",
        "outputId": "a36ea508-63ae-490b-ebb1-de7d1d7fd199",
        "colab": {
          "base_uri": "https://localhost:8080/"
        }
      },
      "outputs": [
        {
          "output_type": "stream",
          "name": "stdout",
          "text": [
            "please key in the first term in the arithmetric sequence:2\n",
            "please key in the common difference:3\n",
            "please key in the number of terms in the arithmetric sequence:5\n",
            "2.0\n",
            "5.0\n",
            "8.0\n",
            "11.0\n",
            "14.0\n"
          ]
        }
      ],
      "source": [
        "first_term = float(input(\"please key in the first term in the arithmetric sequence:\"))\n",
        "common_difference = float(input(\"please key in the common difference:\"))\n",
        "number_of_terms = int(input(\"please key in the number of terms in the arithmetric sequence:\"))\n",
        "for i in range(number_of_terms):\n",
        "    print(first_term + i * common_difference)"
      ]
    },
    {
      "cell_type": "markdown",
      "metadata": {
        "id": "Itsj17bKBQUv"
      },
      "source": [
        "# Exercise 2.3\n",
        "\n",
        "Given an arithmetic sequence with first term $a$ and common difference $d$.\n",
        "\n",
        "Write a program that:\n",
        "- Request a numeric input from the user to be used as the first term.  Let us denote this input as `first_term`.\n",
        "- Request a numeric input from the user to be used as the common difference.  Let us denote this input as `common_difference`.\n",
        "- Request an integer input from the user for the index for the term in the sequence.  Let us denote this input as `n`.\n",
        "- Print out the $n$th term in the sequence.\n",
        "- Print out the sum of the first $n$ terms in the sequence.\n",
        "\n",
        "Example interaction:\n",
        "\n",
        ">```text\n",
        ">Please input the first term in the arithmetic sequence:\n",
        ">2\n",
        ">Please input the common difference:\n",
        ">3\n",
        ">Please input the index :\n",
        ">5\n",
        ">The 5th term in the sequence is:\n",
        ">14\n",
        ">The sum of the first 5 terms in the sequence is:\n",
        ">40\n",
        ">```"
      ]
    },
    {
      "cell_type": "code",
      "execution_count": 4,
      "metadata": {
        "id": "x9EALAI6BQUv",
        "outputId": "7f9828a6-450a-4a75-bf4d-ec3b96c41136",
        "colab": {
          "base_uri": "https://localhost:8080/"
        }
      },
      "outputs": [
        {
          "output_type": "stream",
          "name": "stdout",
          "text": [
            "please key in the first term in the arithmetric sequence:2\n",
            "please key in the common difference:3\n",
            "please key in the index:5\n",
            "the 5th term in the sequence is:14.0\n",
            "sum of the first n term in the sequence is: 40.0\n"
          ]
        }
      ],
      "source": [
        "first_term = float(input(\"please key in the first term in the arithmetric sequence:\"))\n",
        "common_difference = float(input(\"please key in the common difference:\"))\n",
        "n = int(input(\"please key in the index:\"))\n",
        "a = 0\n",
        "for i in range(n):\n",
        "  x = first_term + i * common_difference\n",
        "  a += x\n",
        "  if i == n - 1:\n",
        "    print(f\"the {n}th term in the sequence is:\" + str(first_term + (n - 1) * common_difference))\n",
        "    print(f\"sum of the first n term in the sequence is: {a}\")"
      ]
    },
    {
      "cell_type": "markdown",
      "metadata": {
        "id": "3gIASSCbBQUw"
      },
      "source": [
        "# Exercise 2.4\n",
        "\n",
        "An arithmetic sequence $u_1, u_2, u_3, \\cdots$ is defined by $u_r=3r-1$ for $r\\in \\mathbb{Z}^{+}$. Find the least value of $n$ such that $u_3+u_6+u_9+\\cdots+u_n$ exceeds $1700$, where $n$ is a multiple of 3."
      ]
    },
    {
      "cell_type": "code",
      "execution_count": null,
      "metadata": {
        "id": "VqftYcB2BQUx",
        "outputId": "9c7b8c37-7a0b-476e-8dc5-d92924ebaa25",
        "colab": {
          "base_uri": "https://localhost:8080/"
        }
      },
      "outputs": [
        {
          "output_type": "stream",
          "name": "stdout",
          "text": [
            "60\n"
          ]
        }
      ],
      "source": [
        "x = 0\n",
        "a = 3\n",
        "b = 0\n",
        "while b < 1700:\n",
        "  a += 3\n",
        "  x = 3 * a - 1\n",
        "  b += x\n",
        "print(a)"
      ]
    },
    {
      "cell_type": "markdown",
      "metadata": {
        "id": "94RRz5oEBQUx"
      },
      "source": [
        "# Exercise 2.5 2012/GCE A-Level/P2/Q4(i) H2 Mathematics\n",
        "\n",
        "On 1 January 2001 Mrs $A$ put \\$100 into a bank account, and on the first day of each subsequent month she put in \\$10 more than in the previous month. Thus on 1 February she put \\$110 into the account and on 1 March she put \\$120 into the account, and so on. The account pays no interest.\n",
        "\n",
        "On what date did the value of Mrs $A$'s account first become greater than $5000?"
      ]
    },
    {
      "cell_type": "code",
      "execution_count": null,
      "metadata": {
        "id": "seXtE6EZBQUy",
        "outputId": "313a71b6-70ab-45e7-9127-1b1a47c1d324",
        "colab": {
          "base_uri": "https://localhost:8080/"
        }
      },
      "outputs": [
        {
          "output_type": "stream",
          "name": "stdout",
          "text": [
            "year:2002\n",
            "number_of_month:12\n",
            "1Dec\n"
          ]
        }
      ],
      "source": [
        "money_in_bank = 100\n",
        "number_of_month = 0\n",
        "money_put_in_bank = 100\n",
        "while money_in_bank <= 5000:\n",
        "  money_in_bank += money_put_in_bank\n",
        "  money_put_in_bank += 10\n",
        "  number_of_month += 1\n",
        "number_of_year = (number_of_month - 1) // 12\n",
        "number_of_month = number_of_month % 12\n",
        "if number_of_month == 0:\n",
        " number_of_month = 12\n",
        "print(\"year:\" + str(number_of_year + 2001))\n",
        "print(\"number_of_month:\" + str(number_of_month))\n",
        "month_dict = dict({1:\"Jan\",2:\"Feb\",3:\"Mar\",4:\"Apr\",5:\"May\",6:\"Jun\",7:\"Jul\",8:\"Aug\",9:\"Sep\",10:\"Oct\",11:\"Nov\",12:\"Dec\"})\n",
        "print(str(number_of_year) + month_dict[number_of_month])"
      ]
    },
    {
      "cell_type": "markdown",
      "metadata": {
        "id": "mThR6ADZBQUy"
      },
      "source": [
        "## Exercise 2.6 Power\n",
        "\n",
        "Write a program that prints out the first $m$ numbers that can be written as a positive integer taken to the power $n$.\n",
        "\n",
        "Example interaction:\n",
        "\n",
        ">``` text\n",
        ">Input the number of terms, m: 5\n",
        ">Input the n-th power: 3\n",
        ">1\n",
        ">8\n",
        ">27\n",
        ">64\n",
        ">125\n",
        ">```"
      ]
    },
    {
      "cell_type": "code",
      "execution_count": null,
      "metadata": {
        "id": "4Mou9Tu4BQUy",
        "outputId": "54b34b60-4197-4f92-caf3-789a80983961",
        "colab": {
          "base_uri": "https://localhost:8080/"
        }
      },
      "outputs": [
        {
          "output_type": "stream",
          "name": "stdout",
          "text": [
            "please key in the number of terms:5\n",
            "please key in the power of term:3\n",
            "1\n",
            "8\n",
            "27\n",
            "64\n",
            "125\n"
          ]
        }
      ],
      "source": [
        "number_of_terms = int(input(\"please key in the number of terms:\"))\n",
        "power_of_term = int(input(\"please key in the power of term:\"))\n",
        "\n",
        "for i in range(1 , number_of_terms + 1):\n",
        "  print (i ** power_of_term)"
      ]
    },
    {
      "cell_type": "markdown",
      "metadata": {
        "id": "o2BJphm0BQUy"
      },
      "source": [
        "## Exercise 2.7 Guess The Secret Number\n",
        "\n",
        "Write a program that stores a secret integer in a variable. The user has to guess the secret integer, the program should loop until they get it right.\n",
        "\n",
        "The problem:\n",
        "-   Decide on a secret integer between 1 and 100 inclusive yourself.\n",
        "-\tRequest an integer from the user.\n",
        "-\tif the user inputted a value that is too high, print 'Your number is too high. Try again.' and the program loops\n",
        "-   if the user inputted a value that is too low, print 'Your number is too low. Try again.' and the program loops\n",
        "-   if the user inputted a value that is the same as the secret integer, print 'Congratulations. You guessed correctly.' and the program ends.\n",
        "\n",
        "Example interaction:\n",
        "\n",
        ">``` text\n",
        ">#Secret number is 31\n",
        ">Input a quantity: 37\n",
        ">Your number is too high. Try again.\n",
        ">Input a quantity: 25\n",
        ">Your number is too low. Try again.\n",
        ">Input a quantity: 31\n",
        ">Congratulations. You guessed correctly.\n",
        ">```"
      ]
    },
    {
      "cell_type": "code",
      "execution_count": null,
      "metadata": {
        "id": "ZuY4ZIXNBQUz"
      },
      "outputs": [],
      "source": [
        "import random\n",
        "secret_number = random.randint(1,100)\n",
        "user_input = int(input(\"please key in a number:\"))\n",
        "while user_input != secret_number:\n",
        "  if user_input > secret_number:\n",
        "     print(\"Your number is too high. Try again.\")\n",
        "  else :\n",
        "     user_input < secret_number\n",
        "     print(\"Your number is too low. Try again.\")\n",
        "  user_input = int(input(\"please key in a number:\"))\n",
        "  if user_input == secret_number:\n",
        "    break\n",
        "print(\"Congratulations. You guessed correctly.\")"
      ]
    },
    {
      "cell_type": "markdown",
      "metadata": {
        "id": "5YL45lnUBQUz"
      },
      "source": [
        "## Exercise 2.8\n",
        "\n",
        "In mathematics, a **geometric sequence** is a sequence of real numbers\n",
        "$$u_1,u_2,\\cdots, u_n$$\n",
        "such that the ratio between two consecutive terms is constant, i.e. $\\frac{u_{n+1}}{u_n}=r$ for some constant $r\\in \\mathbb{R}\\backslash \\{0,1\\}$, called the **common ratio** and $n\\geq 1$.\n",
        "\n",
        "For example, the sequence $2,6,18,54,162,\\dots$ is an geometric sequence with first term $2$ and common ratio $3$.\n",
        "\n",
        "Write a program to generate the first $n$ terms of an geometric sequence with a user defined first term $a$ and common ratio $r$.\n",
        "\n",
        "The problem:\n",
        "- Request a numeric input from the user to be used as the first term.  Let us denote this input as `first_term`.\n",
        "- Request a numeric input from the user to be used as the common difference.  Let us denote this input as `common_ratio`.\n",
        "- Request an integer input from the user for the number of terms.  Let us denote this input as `number_of_terms`.\n",
        "- Print out the sequence up to the $n$th term.\n",
        "\n",
        "Example interaction:\n",
        "\n",
        ">```text\n",
        ">Please input the first term in the geometric sequence:\n",
        ">2\n",
        ">Please input the common ratio:\n",
        ">3\n",
        ">Please input the number of terms:\n",
        ">5\n",
        ">The first 5 terms of the geometric sequence are:\n",
        ">2\n",
        ">6\n",
        ">18\n",
        ">54\n",
        ">162\n",
        ">```"
      ]
    },
    {
      "cell_type": "code",
      "execution_count": null,
      "metadata": {
        "id": "0sKW9z_OBQUz",
        "outputId": "671fff0a-9e79-4db5-d1b9-8d9d2605b188",
        "colab": {
          "base_uri": "https://localhost:8080/"
        }
      },
      "outputs": [
        {
          "output_type": "stream",
          "name": "stdout",
          "text": [
            "please key in the first term in the arithmetric sequence:2\n",
            "please key in the common ratio:3\n",
            "please key in the number of terms in the arithmetric sequence5\n",
            "The first 5 terms of the geometric sequence are:\n",
            "2\n",
            "6\n",
            "18\n",
            "54\n",
            "162\n"
          ]
        }
      ],
      "source": [
        "num_sum = 0\n",
        "first_term = int(input(\"please key in the first term in the arithmetric sequence:\"))\n",
        "common_ratio = int(input(\"please key in the common ratio:\"))\n",
        "number_of_terms = int(input(\"please key in the number of terms in the arithmetric sequence\"))\n",
        "print(f\"The first {number_of_terms} terms of the geometric sequence are:\")\n",
        "for num in range(number_of_terms):\n",
        " if num == 0:\n",
        "  print(first_term)\n",
        " else :\n",
        "  print(first_term * common_ratio ** num)"
      ]
    },
    {
      "cell_type": "markdown",
      "metadata": {
        "id": "gKyW0qcbBQUz"
      },
      "source": [
        "## Exercise 2.9\n",
        "\n",
        "Given a geometric sequence with first term $a$ and common ratio $r$.\n",
        "\n",
        "Write a program that:\n",
        "- Request a numeric input from the user to be used as the first term.  Let us denote this input as `first_term`.\n",
        "- Request a numeric input from the user to be used as the common difference.  Let us denote this input as `common_ratio`.\n",
        "- Request an integer input from the user for the index for the term in the sequence.  Let us denote this input as `n`.\n",
        "- Print out the $n$th term in the sequence.\n",
        "- Print out the sum of the first $n$ terms in the sequence.\n",
        "\n",
        "Example interaction:\n",
        "\n",
        ">```text\n",
        ">Please input the first term in the geometric sequence:\n",
        ">2\n",
        ">Please input the common ratio:\n",
        ">3\n",
        ">Please input the index :\n",
        ">5\n",
        ">The 5th term in the sequence is:\n",
        ">162\n",
        ">The sum of the first 5 terms in the sequence is:\n",
        ">242\n",
        ">```"
      ]
    },
    {
      "cell_type": "code",
      "execution_count": null,
      "metadata": {
        "id": "PUywmWlABQUz",
        "outputId": "6fc54cb4-aa90-4fea-ba30-2b7ef0631c03",
        "colab": {
          "base_uri": "https://localhost:8080/"
        }
      },
      "outputs": [
        {
          "output_type": "stream",
          "name": "stdout",
          "text": [
            "please key in the first term in the arithmetric sequence:2\n",
            "please key in the common ratio:3\n",
            "please key in the index:5\n",
            "the 5th term in the sequence is:162\n",
            " sum of the first 5 term in the sequence is:242\n"
          ]
        }
      ],
      "source": [
        "first_term = int(input(\"please key in the first term in the arithmetric sequence:\"))\n",
        "common_ratio = int(input(\"please key in the common ratio:\"))\n",
        "n = int(input(\"please key in the index:\"))\n",
        "num_sum = 0\n",
        "for num in range(n):\n",
        "  num_sum += first_term * common_ratio ** num\n",
        "  if num == n - 1:\n",
        "   print(f\"the {n}th term in the sequence is:\" + str(first_term * common_ratio ** num))\n",
        "   print(f\" sum of the first {n} term in the sequence is:\" + str(num_sum))"
      ]
    },
    {
      "cell_type": "markdown",
      "metadata": {
        "id": "fgp5cDIxBQU0"
      },
      "source": [
        "## Exercise 2.10\n",
        "\n",
        "Given a geometric sequence with first term $1$ and common ratio $r$. Find the sum of the first 100 terms of the sequence if:\n",
        "- $r=2$\n",
        "- $r=\\frac{1}{2}$\n",
        "- $r=-3$\n",
        "- $r=-\\frac{5}{6}$\n",
        "- $r=4.1$\n",
        "- $r=0.7$\n",
        "\n",
        "What can you conclude about the relationship between the common ratio of the geometric sequence with the sum of the first $n$ terms of the geometric sequence as $n$ grows larger and larger? i.e., as $n\\rightarrow \\infty$. You might want to try with more values of $r$."
      ]
    },
    {
      "cell_type": "code",
      "execution_count": null,
      "metadata": {
        "id": "VXF6Me25BQU0",
        "outputId": "57851cc1-a632-4540-d7e6-9335346589f3",
        "colab": {
          "base_uri": "https://localhost:8080/"
        }
      },
      "outputs": [
        {
          "output_type": "stream",
          "name": "stdout",
          "text": [
            "please key in the first term in the arithmetric sequence:1\n",
            "please key in the common ratio:-5/6\n",
            "please key in the index:100\n",
            " sum of the first 100 term in the sequence is:0.5454545388683593\n"
          ]
        }
      ],
      "source": [
        "first_term = float(input(\"please key in the first term in the arithmetric sequence:\"))\n",
        "common_ratio_str = input(\"please key in the common ratio:\")\n",
        "common_ratio = eval(common_ratio_str)\n",
        "n = int(input(\"please key in the index:\"))\n",
        "num_sum = 0\n",
        "for num in range(n):\n",
        "  num_sum += first_term * common_ratio ** num\n",
        "  if num == n - 1:\n",
        "   print(f\"sum of the first {n} term in the sequence is:\" + str(num_sum))"
      ]
    },
    {
      "cell_type": "markdown",
      "metadata": {
        "id": "4iNMQN5rBQU0"
      },
      "source": [
        "## Exercise 2.11 2019/NJC Tutorial/APGP/QB8 H2 Mathematics (Modified)\n",
        "\n",
        "An athlete is considering two plans for a training program.\n",
        "\n",
        "Plan I: Run 2000 m on day 1, 2400 m on day 2, and on each successive day increase the distance run by 400 m.\n",
        "\n",
        "Plan II: Run 2000 m on day 1, 2200 m on day 2, and on each successive day multiply the distance run by a constant factor $\\frac{11}{10}$.\n",
        "\n",
        "- **(a)** For Plan I, find the least value of $n$ for which the total distance run on days 1 to $n$, inclusive, exceeds 200 000 m.\n",
        "\n",
        "- **(b)** For Plan II, find the least value of N for which the distance run on day $N$ exceeds 16 000.\n",
        "\n",
        "- **(c)** Assume that athlete $A$ decided to go with Plan I and another athlete $B$ decided to with Plan II, when will athlete $B$'s total distance run first exceeds athlete $A$'s total distance run?"
      ]
    },
    {
      "cell_type": "code",
      "execution_count": null,
      "metadata": {
        "id": "R6pXhceTBQU0",
        "outputId": "9eb42c59-76aa-4b02-a400-39d195c17dd9",
        "colab": {
          "base_uri": "https://localhost:8080/"
        }
      },
      "outputs": [
        {
          "output_type": "stream",
          "name": "stdout",
          "text": [
            "2\n",
            "2\n",
            "athlete B exceed athlete A at day 3\n"
          ]
        }
      ],
      "source": [
        "#(a)\n",
        "#base_distance1 = 2000\n",
        "#distance_increase = 400\n",
        "#n_of_day = 1\n",
        "#distantsum1 = 0\n",
        "#while distantsum1 <= 200000:\n",
        "   #distantsum1 += base_distance1 + distance_increase * (n_of_day - 1)\n",
        "   #n_of_day += 1\n",
        "#print(n_of_day)\n",
        "\n",
        "#(b)\n",
        "#base_distance2 = 2000\n",
        "#N_of_day = 1\n",
        "#distantsum2 = 0\n",
        "#while distantsum2 <= 16000:\n",
        "  #distantsum2 += base_distance2\n",
        "  #N_of_day += 1\n",
        "  #base_distance2 = base_distance2 * (11 / 10)\n",
        "#print(N_of_day)\n",
        "\n",
        "#(c)\n",
        "base_distance1 = 2000\n",
        "distance_increase = 400\n",
        "n_of_day = 1\n",
        "distantsum1 = 0\n",
        "base_distance2 = 2000\n",
        "N_of_day = 1\n",
        "distantsum2 = 0\n",
        "while distantsum2 <= distantsum1:\n",
        "  distantsum1 += base_distance1 + distance_increase * (n_of_day - 1)\n",
        "  n_of_day += 1\n",
        "  distantsum2 += base_distance2 * (11/10)\n",
        "  N_of_day += 1\n",
        "print(n_of_day)\n",
        "print(N_of_day)\n",
        "if N_of_day >= n_of_day:\n",
        "  print(f\"athlete B exceed athlete A at day {N_of_day + 1}\")"
      ]
    }
  ],
  "metadata": {
    "kernelspec": {
      "display_name": "Python 3",
      "language": "python",
      "name": "python3"
    },
    "language_info": {
      "codemirror_mode": {
        "name": "ipython",
        "version": 3
      },
      "file_extension": ".py",
      "mimetype": "text/x-python",
      "name": "python",
      "nbconvert_exporter": "python",
      "pygments_lexer": "ipython3",
      "version": "3.10.2"
    },
    "orig_nbformat": 2,
    "vscode": {
      "interpreter": {
        "hash": "a42ccb73e7d9bfdf27e036f1d2b8b681e55fc0743cc5586bc2474d4a60f4b886"
      }
    },
    "colab": {
      "provenance": [],
      "include_colab_link": true
    }
  },
  "nbformat": 4,
  "nbformat_minor": 0
}