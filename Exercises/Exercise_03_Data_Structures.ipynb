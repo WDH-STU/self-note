{
  "cells": [
    {
      "cell_type": "markdown",
      "metadata": {
        "id": "view-in-github",
        "colab_type": "text"
      },
      "source": [
        "<a href=\"https://colab.research.google.com/github/WDH-STU/self-note/blob/main/Exercises/Exercise_03_Data_Structures.ipynb\" target=\"_parent\"><img src=\"https://colab.research.google.com/assets/colab-badge.svg\" alt=\"Open In Colab\"/></a>"
      ]
    },
    {
      "cell_type": "markdown",
      "metadata": {
        "id": "Xa7u7AT4JqbP"
      },
      "source": [
        "# Exercise 3\n",
        "\n",
        "Related Notes:\n",
        "- Chapter_02_Programming_Constructs\n",
        "- Chapter_03_Data_Structures\n",
        "\n",
        "[![Open In Colab](https://colab.research.google.com/assets/colab-badge.svg)](https://colab.research.google.com/github/njc-cz2-2021/Materials/blob/main/Exercises/Exercise_03_Data_Structures.ipynb)"
      ]
    },
    {
      "cell_type": "markdown",
      "metadata": {
        "id": "2LJPAYvyJqbQ"
      },
      "source": [
        "## Exercise 3.1 Dude, What's my Index?\n",
        "\n",
        "Consider the following list\n",
        "\n",
        "``` python\n",
        "[3, 1, 4, 1, 5, 9, 2, 6, 5, 3, 5, 8, 9, 7, 9, 3, 2, 3, 8, 4, 6, 2, 6, 4, 3, 3, 8, 3, 2, 7, 9, 5, 0, 2, 8, 8]\n",
        "```\n",
        "\n",
        "Write a program that print out:\n",
        "- the indices of occurence of each digit (0-9) in the list, and\n",
        "- its number of occurences in the list\n",
        "in the following format.\n",
        "\n",
        ">``` text\n",
        "> <DIGIT> <LIST_OF_INDICES> <NO_OF_OCCURENCES>\n",
        ">```\n",
        "\n",
        "Example Output:\n",
        "\n",
        ">``` text\n",
        "> Digit 0 : [32] : 1\n",
        ">```\n",
        "\n",
        "Try your program again with the following list.\n",
        "\n",
        "``` python\n",
        "[3, 1, 4, 1, 5, 9, 2, 6, 5, 3, 5, 8, 9, 7, 9, 3, 2, 3, 8, 4, 6, 2, 6, 4, 3, 3, 8, 3, 2, 7, 9, 5, 2, 8, 8]\n",
        "```"
      ]
    },
    {
      "cell_type": "code",
      "execution_count": 1,
      "metadata": {
        "id": "fBxeI6vxJqbR",
        "outputId": "601c35ea-3049-4790-9bf3-c316ef1ddbf7",
        "colab": {
          "base_uri": "https://localhost:8080/"
        }
      },
      "outputs": [
        {
          "output_type": "stream",
          "name": "stdout",
          "text": [
            "digit 0 : [32] : 1\n",
            "digit 1 : [1, 3] : 2\n",
            "digit 2 : [6, 16, 21, 28, 33] : 5\n",
            "digit 3 : [0, 9, 15, 17, 24, 25, 27] : 7\n",
            "digit 4 : [2, 19, 23] : 3\n",
            "digit 5 : [4, 8, 10, 31] : 4\n",
            "digit 6 : [7, 20, 22] : 3\n",
            "digit 7 : [13, 29] : 2\n",
            "digit 8 : [11, 18, 26, 34, 35] : 5\n",
            "digit 9 : [5, 12, 14, 30] : 4\n"
          ]
        }
      ],
      "source": [
        "pie_list = [3, 1, 4, 1, 5, 9, 2, 6, 5, 3, 5, 8, 9, 7, 9, 3, 2, 3, 8, 4, 6, 2, 6, 4, 3, 3, 8, 3, 2, 7, 9, 5, 0, 2, 8, 8]\n",
        "digit_indices = {digit: [] for digit in range(0, 10)}\n",
        "for index, num in enumerate(pie_list):\n",
        "  digit_indices[num].append(index)\n",
        "for digit in digit_indices:\n",
        "    print('digit {a} : {b} : {c}'.format(a = (digit),b = (digit_indices[digit]),c = (pie_list.count(digit))))"
      ]
    },
    {
      "cell_type": "markdown",
      "metadata": {
        "id": "OtyDPK8MJqbR"
      },
      "source": [
        "## Exercise 3.2 Some Heights Statistics\n",
        "\n",
        "Write a program that:\n",
        "- ask user to input the heights value (in centimeter) of $n$ students. The entered values are integer.\n",
        "- store the input values in list and print the list out\n",
        "- display the lowest, highest and mean of the height of these $n$ students. In case you have forgotten, mean is the arithmetic average.  \n",
        "\n",
        "Example Output:\n",
        "\n",
        ">``` text\n",
        ">Number of heights to be entered: 4\n",
        ">100\n",
        ">120\n",
        ">110\n",
        ">130\n",
        ">The list of heights: [100,120,110,130]\n",
        ">Minimum height is 100 cm, maximum height is 130 cm and the average height is 115.0 cm.\n",
        ">```"
      ]
    },
    {
      "cell_type": "code",
      "execution_count": null,
      "metadata": {
        "id": "rj0D15SbJqbR"
      },
      "outputs": [],
      "source": [
        "number_of_heights = int(input('Number of heights to be entered: '))\n",
        "height_list = []\n",
        "for number_of_heights in range (1,number_of_heights + 1):\n",
        " specific_height = int(input(''))\n",
        " height_list.append(specific_height)\n",
        "print(f'The list of heights: {height_list}\\n\"\"Minimum height is {min(height_list)} cm, maximum height is {max(height_list)} cm and the average height is {sum(height_list)/number_of_heights} cm.')"
      ]
    },
    {
      "cell_type": "markdown",
      "metadata": {
        "id": "OMAXlOLeJqbR"
      },
      "source": [
        "## Exercise 3.3 Binning\n",
        "\n",
        "In a school the grades obtained by a student in a certain subject depends on their mark, ranging from 0 to 100, obtained for the subject and it follows the following table.\n",
        "\n",
        "<center>\n",
        "\n",
        "| Marks ($m$)| Grade |\n",
        "|-------|-------|\n",
        "|   $m<40$    |    U     |\n",
        "|   $40\\leq m\\leq 44$     |    S     |\n",
        "|   $45\\leq m\\leq 49$    |    E     |\n",
        "|   $50\\leq m\\leq 54$    |    D     |\n",
        "|   $55\\leq m\\leq 59$    |    C     |\n",
        "|   $60\\leq m\\leq 69$    | B     |\n",
        "|   $m\\geq 70$    |    A     |\n",
        "\n",
        "</center>\n",
        "\n",
        "Following are the list of marks obtained by students from 2 different classes. `mark_1` is a list from one class and `mark_2` is a list from the other class.\n",
        "\n",
        "``` python\n",
        "mark_1 = [46, 41, 74, 53, 31, 39, 49, 57, 76, 80, 78, 38, 31, 56, 98, 55, 41, 73, 23, 88, 55, 60, 33, 40]\n",
        "mark_2 = [69, 48, 50, 95, 87, 11, 28, 36, 25, 70, 25, 54, 33, 42, 27, 24, 44, 20, 61, 43, 30, 44, 7, 21]\n",
        "```\n",
        "\n",
        "Write a program that:\n",
        "- print outs the list of the students in each grade group for each of the classes in an *descending order* in the following format\n",
        ">``` text\n",
        "><GRADE> <LIST OF DESCENDING MARKS> <NO OF STUDENTS IN THE LIST>\n",
        ">```\n",
        "- if there are no students receiving such grade, print the empty list `[]`.\n",
        "\n",
        "Example Output:\n",
        ">``` text\n",
        ">#Assume the marks are stored in the list [39, 45, 66, 68, 75]\n",
        ">U: [39] 1\n",
        ">S: [] 0\n",
        ">E: [45] 1\n",
        ">D: [] 0\n",
        ">C: [] 0\n",
        ">B: [68, 66] 2\n",
        ">A: [75] 1\n",
        ">```"
      ]
    },
    {
      "cell_type": "code",
      "source": [
        "#\n",
        "mark_1 = [46, 41, 74, 53, 31, 39, 49, 57, 76, 80, 78, 38, 31, 56, 98, 55, 41, 73, 23, 88, 55, 60, 33, 40]\n",
        "mark_2 = [69, 48, 50, 95, 87, 11, 28, 36, 25, 70, 25, 54, 33, 42, 27, 24, 44, 20, 61, 43, 30, 44, 7, 21]\n",
        "mark_list = []\n",
        "mark_1.extend(mark_2)\n",
        "#store the marks in a dictionary {grade: [marks]\n",
        "#iterate through the marks and sort them into\n",
        "#sorting through grades\n",
        "grade_dict = {'A' :[],\n",
        "        'B' :[],\n",
        "        'C' :[],\n",
        "        'D' :[],\n",
        "        'E' :[],\n",
        "        'S' :[],\n",
        "        'U' :[]}\n",
        "for mark in mark_1:\n",
        "  if mark >= 70:\n",
        "    grade_dict['A'].append(mark)\n",
        "  elif mark >= 60:\n",
        "    grade_dict['B'].append(mark)\n",
        "  elif mark >= 55:\n",
        "    grade_dict['C'].append(mark)\n",
        "  elif mark >= 50:\n",
        "    grade_dict['D'].append(mark)\n",
        "  elif mark >= 45:\n",
        "    grade_dict['E'].append(mark)\n",
        "  elif mark >= 40:\n",
        "    grade_dict['S'].append(mark)\n",
        "  else:\n",
        "    grade_dict['U'].append(mark)\n",
        "for grade, marks in grade_dict.items():\n",
        "  marks.sort(reverse = True)\n",
        "  print(f'{grade} : {marks} : {len(marks)}')"
      ],
      "metadata": {
        "id": "f39KRy_LDujI",
        "outputId": "9a4d097b-a6d3-41b5-9567-f29bc135abca",
        "colab": {
          "base_uri": "https://localhost:8080/"
        }
      },
      "execution_count": 7,
      "outputs": [
        {
          "output_type": "stream",
          "name": "stdout",
          "text": [
            "A : [98, 95, 88, 87, 80, 78, 76, 74, 73, 70] : 10\n",
            "B : [69, 61, 60] : 3\n",
            "C : [57, 56, 55, 55] : 4\n",
            "D : [54, 53, 50] : 3\n",
            "E : [49, 48, 46] : 3\n",
            "S : [44, 44, 43, 42, 41, 41, 40] : 7\n",
            "U : [39, 38, 36, 33, 33, 31, 31, 30, 28, 27, 25, 25, 24, 23, 21, 20, 11, 7] : 18\n"
          ]
        }
      ]
    },
    {
      "cell_type": "markdown",
      "metadata": {
        "id": "uB0iQt0YJqbR"
      },
      "source": [
        "## Exercise 3.4 A Funny Interest\n",
        "\n",
        "Mr. $B$ was offered an investment opportunity with a company where if he was to invest \\$1000, he was guaranteed a $100%$ yearly interest rate, i.e. Mr. $B$ will be receive \\$2000 after 1 year, inclusive of his capital.  \n",
        "\n",
        "A friend of his that work in the company offers him another deal: same capital \\$1000, same yearly interest rate of $100%$ but applied quarterly for a year, meaning every 3 months, the applied interest rate to the current amount is $\\frac{100}{4}\\%=25\\%$. So, after 3rd month, his investment becomes \\$1250. After 6th month, it's \\$1562.50. After 9th month, it's \\$1953.13.\n",
        "Under this scheme, how much would Mr. $B$'s investment worth after a full year?\n",
        "\n",
        "Suppose that instead of applying the interest rate of 100% quarterly, a human error caused the interest rate to be applied *hourly* instead, for a full year. How much value will Mr. $B$'s investment worth then?"
      ]
    },
    {
      "cell_type": "code",
      "execution_count": null,
      "metadata": {
        "id": "PRicjGzSJqbS",
        "outputId": "cb5f75f8-a429-48b6-d817-28f0140e9771",
        "colab": {
          "base_uri": "https://localhost:8080/"
        }
      },
      "outputs": [
        {
          "output_type": "stream",
          "name": "stdout",
          "text": [
            "please put in the rate applied (i.e. per year/per quarter month/per hour):per hour\n",
            "2718.1266916179075\n"
          ]
        }
      ],
      "source": [
        "\n",
        "rate_applied = str(input('please put in the rate applied (i.e. per year/per quarter month/per hour):'))\n",
        "rate_divided = {'per year': 1,'per quarter month': 4,'per hour': 8760}\n",
        "principle = 1000\n",
        "interest_rate = 100/rate_divided[rate_applied]\n",
        "total_money = 0\n",
        "if rate_applied == 'per year':\n",
        "  print(2000)\n",
        "if rate_applied == 'per quarter month':\n",
        "  total_money = principle * ( 1 + interest_rate/100 ) ** 4\n",
        "  print(total_money)\n",
        "if rate_applied == 'per hour':\n",
        "  total_money = principle * ( 1 + interest_rate/100 ) ** 8760\n",
        "  print(total_money)"
      ]
    },
    {
      "cell_type": "markdown",
      "metadata": {
        "id": "jlObovr4JqbS"
      },
      "source": [
        "## Exercise 3.5 Doubling My Money\n",
        "\n",
        "A customer is considering to deposit her money into a savings account with one of the locally available banks. As of 5th March 2021, the interest rates offered are given in the following table:\n",
        "\n",
        "<center>\n",
        "\n",
        "|         Savings Account        | Yearly Interest rate (%) |\n",
        "|:------------------------------:|:-----------------:|\n",
        "| BOC SmartSaver                 |         1         |\n",
        "| DBS Multiplier Account         |        0.4        |\n",
        "| UOB One Account                |        0.5        |\n",
        "| Standard Chartered Bonus$saver |        0.38       |\n",
        "| OCBC 360 Account               |        0.55       |\n",
        "\n",
        "</center>\n",
        "\n",
        "Write a program that:\n",
        "- Prints out a list that contains the number of years that is required for the money in savings account to double for each type of savings account.\n",
        "\n",
        "Example output:\n",
        "\n",
        ">```text\n",
        ">With 1% yearly interest rate with BOC SmartSaver, it will take ___ years for the money to double.\n",
        ">```\n",
        "\n",
        "For each of the savings account, compare the number of years obtained in the earlier part with the number $\\frac{72}{100r}$, where $r$ is the yearly interest rate. What do you observe? Can you explain your observation?"
      ]
    },
    {
      "cell_type": "code",
      "execution_count": null,
      "metadata": {
        "vscode": {
          "languageId": "plaintext"
        },
        "id": "k-LXDPXWJqbS",
        "outputId": "b29ffbc6-86ba-49e4-b1a3-9cc6ff1d27a4",
        "colab": {
          "base_uri": "https://localhost:8080/"
        }
      },
      "outputs": [
        {
          "output_type": "stream",
          "name": "stdout",
          "text": [
            "please key in your choice of bank to invest your money:BOC smart saver\n",
            "with 1% yearly interest rate with 1, it will take 15 years for the money to double\n"
          ]
        },
        {
          "output_type": "execute_result",
          "data": {
            "text/plain": [
              "1443.2"
            ]
          },
          "metadata": {},
          "execution_count": 3
        }
      ],
      "source": [
        "import random\n",
        "origin_money = random.randint(1,1000)\n",
        "final_money = origin_money * 2\n",
        "interest = 0\n",
        "new_money = origin_money + interest\n",
        "year = 0\n",
        "bank_choice = str(input('please key in your choice of bank to invest your money:'))\n",
        "bank = {'BOC smart saver': 1, 'DBS Multiplier Account': 0.4, 'UOB One Account': 0.5, 'Standard Charted Bonus$saver': 0.38, 'UCBC 360 Account': 0.55}\n",
        "while new_money < final_money:\n",
        "   new_money += interest\n",
        "   year += 1\n",
        "   interest += origin_money * bank[bank_choice] / 100\n",
        "print(f'with {bank[bank_choice]}% yearly interest rate with {bank[bank_choice]}, it will take {year} years for the money to double')\n",
        "new_money\n",
        "\n",
        "\n",
        "\n",
        "#another using zip\n",
        "saving_names = ['BOC smartSaver','DBS Multiplier Account'...]\n",
        "saving_rate = [1,0.4...]\n",
        "saving_account = zip(saving_names,saving_rate)\n",
        "for name , rate in zip(saving_names,saving_rate):\n",
        "  n = 0\n",
        "  initial_saving = 1\n",
        "  while initial_saving < 2:\n",
        "    initial_saving *= (100 + rate)/100\n",
        "    n += 1\n",
        "  print(f'With{rate}% yearly interest with {name},it will take {n} years')\n",
        "  print(f'72/(100r)') = {72/(rate)}')\n"
      ]
    },
    {
      "cell_type": "markdown",
      "metadata": {
        "id": "hWhBjcz_JqbS"
      },
      "source": [
        "## Exercise 3.6 Arithmetic Sequence Revisited\n",
        "\n",
        "Recall from Exercise 1.2, an **arithmetic sequence** is a sequence of real numbers\n",
        "$$u_1,u_2,\\cdots, u_n$$\n",
        "such that the difference between two consecutive terms is constant, i.e. $u_{n+1}-u_n=d$ for some constant $d\\in \\mathbb{R}$ and $d\\neq 0$, called the **common difference** and $n\\geq 1$.\n",
        "\n",
        "The problem:\n",
        "- Request a numeric input from the user to be used as the first term.  Let us denote this input as `first_term`.\n",
        "- Request a numeric input from the user to be used as the common difference.  Let us denote this input as `common_difference`.\n",
        "- Request an integer input greater or equal to $4$ from the user for the number of terms.  Let us denote this input as `number_of_terms`.\n",
        "- Print out the list that contains the arithmetic sequence up to the $n$th term, where $n =$ `number_of_terms`.\n",
        "- Print the list that contains the first 3 terms of the arithmetic sequence.\n",
        "- Print the list that contains the last 4 terms of the arithmetic sequence.\n",
        "- Use an inbuilt function that accepts list as an input to calculate the sum of the first $n$ terms of the arithmetic sequence.\n",
        "\n",
        "Example interaction:\n",
        "\n",
        ">```text\n",
        ">Please input the first term in the arithmetic sequence:\n",
        ">2\n",
        ">Please input the common difference:\n",
        ">3\n",
        ">Please input the number of terms:\n",
        ">5\n",
        ">The list containing the first 5 terms of the arithmetic sequence are:\n",
        ">[2, 5, 8, 11, 14]\n",
        ">The list of the first 3 terms of the sequence is:\n",
        ">[2, 5, 8]\n",
        ">The list of the last 4 terms of the sequence is:\n",
        ">[5, 8, 11, 14]\n",
        ">The sum of all the terms in the sequence is:\n",
        ">40\n",
        ">```"
      ]
    },
    {
      "cell_type": "code",
      "execution_count": null,
      "metadata": {
        "id": "2CwojdSlJqbS"
      },
      "outputs": [],
      "source": [
        "first_term = int(input(\"please key in the first term in the arithmetric sequence:\"))\n",
        "common_difference = int(input(\"please key in the common difference:\"))\n",
        "number_of_terms = int(input(\"please key in the number of terms in the arithmetric sequence:\"))\n",
        "arithmetic_list = []\n",
        "for i in range(number_of_terms):\n",
        " arithmetic_list.append(first_term + i * common_difference)\n",
        "print(f'The list containing the first {number_of_terms} terms of the arithmetic sequence are:\\n{arithmetic_list}')\n",
        "print(f'the first 3 term of the sequence is:\\n{arithmetic_list[:3]}')\n",
        "print(f'the last 4 term of the sequence is:\\n{arithmetic_list[-4:]}')\n",
        "print(f'The sum of all the terms in the sequence is:\\n{sum(arithmetic_list)}')"
      ]
    },
    {
      "cell_type": "markdown",
      "metadata": {
        "id": "IChnMRfXJqbS"
      },
      "source": [
        "## Exercise 3.7 Value Swapping\n",
        "\n",
        "Write a program that:\n",
        "- Ask user to input 3 integer values, `x`, `y` and `z` one by one.\n",
        "- Print out `x`, `y` and `z` value before swapping\n",
        "- Write an one-line statement to swap values so that `x` will hold value of `y`, `y` will hold value of `z`, and `z` will hold value of x after running the statement.\n",
        "- Print out `x`, `y` and `z` value after swapping.\n",
        "\n",
        "Example interaction:\n",
        "\n",
        ">```text\n",
        ">Enter the value for x: 10\n",
        ">Enter the value for y: 20\n",
        ">Enter the value for z: 30\n",
        ">Before swapping, x = 10, y = 20, z = 30\n",
        ">After swapping, x = 20, y = 30, z = 10\n",
        ">```"
      ]
    },
    {
      "cell_type": "code",
      "execution_count": null,
      "metadata": {
        "id": "yiIEDNO1JqbS",
        "outputId": "0ca5d851-376a-40cc-e4c2-1bc5ad5d9e64",
        "colab": {
          "base_uri": "https://localhost:8080/"
        }
      },
      "outputs": [
        {
          "output_type": "stream",
          "name": "stdout",
          "text": [
            "the integer value of x is:10\n",
            "the integer value of y is:20\n",
            "the integer value of z is:30\n",
            "Before swapping, x = 10, y = 20, z = 30\n",
            "After swapping, x = 20, y = 30, z = 10\n"
          ]
        }
      ],
      "source": [
        "x = int(input('the integer value of x is:'))\n",
        "y = int(input('the integer value of y is:'))\n",
        "z = int(input('the integer value of z is:'))\n",
        "print(f'Before swapping, x = {x}, y = {y}, z = {z}')\n",
        "x,y,z = y,z,x\n",
        "print(f'After swapping, x = {x}, y = {y}, z = {z}')"
      ]
    },
    {
      "cell_type": "markdown",
      "metadata": {
        "id": "N5LE6pjyJqbS"
      },
      "source": [
        "## Exercise 3.8 Dots in a Square\n",
        "\n",
        "In Python, we can generate random values between -1 and 1 by:\n",
        "\n",
        "- importing the `random` module, and then\n",
        "- using `random.uniform(-1,1)` method.\n",
        "\n",
        "Write a program that:\n",
        "\n",
        "0. set `n` to be 100\n",
        "1. creates a list called `coordinates` which contain `n` tuples with 2 elements each where each element in the tuple is a randomly generated real number between -1 and 1 inclusive, i.e. each element in `coordinates` is of the following form `(element_1,element_2)`. This list represents 100 random points in the cartesian plane ($xy$-plane) where the $x$-coordinates and $y$-coordinates are between -1 and 1 inclusive.\n",
        "2. print out the number of the generated random points (i.e., elements in `coordinates`) that has a distance of at most 1 unit away from the origin $O$. Recall that the distance $d$ from origin to a point $\\left(x,y\\right)$ is $d=\\sqrt{x^2+y^2}$. You can use the method `math.sqrt(your_number)` to find the square root of a number.\n",
        "3. print out also `frac`, the fraction of the number of such points out of $n$ points.\n",
        "4. print out `frac*4`.\n",
        "5. repeat steps 1-5 above with `n` set to be 1000, 10000, 100000.\n",
        "\n",
        "What can you observe about the values of `frac*4` as the `n` increases?\n",
        "\n",
        "Example interaction:\n",
        "\n",
        ">```text\n",
        ">#Assume collection = [(1, 0.7), (0.5, 0.5), (-1, -1)]\n",
        ">Number of points that has a distance of at most 1 unit away from the origin: 1\n",
        ">Fraction of such numbers : 0.3333333\n",
        ">4*frac : 1.333333332\n",
        ">```"
      ]
    },
    {
      "cell_type": "code",
      "execution_count": null,
      "metadata": {
        "id": "MdclmMX2JqbS",
        "outputId": "40aa07ca-5119-4c6b-c67e-1882106af65c",
        "colab": {
          "base_uri": "https://localhost:8080/"
        }
      },
      "outputs": [
        {
          "output_type": "stream",
          "name": "stdout",
          "text": [
            "Number of points that has a distance of at most 1 unit away from the origin : 27\n",
            "Fraction of such numbers :0.27\n",
            "4*frac : 1.08\n"
          ]
        }
      ],
      "source": [
        "#DO NOT DELETE THE FOLLOWING IMPORT\n",
        "import random\n",
        "import math\n",
        "n = 100\n",
        "count = 0\n",
        "coordinate = []\n",
        "for i in range(n):\n",
        "  x = random.uniform(-1,1)\n",
        "  y = random.uniform(-1,1)\n",
        "  coordinate.append((x,y))\n",
        "  d = math.sqrt(x ** 2 + y ** 2)\n",
        "  if d >= 1:\n",
        "    count += 1\n",
        "print(f'Number of points that has a distance of at most 1 unit away from the origin : {count}')\n",
        "print(f'Fraction of such numbers :{count / n}')\n",
        "print(f'4*frac : {4 * count / n}')\n"
      ]
    },
    {
      "cell_type": "markdown",
      "metadata": {
        "id": "G0mJKVOvJqbS"
      },
      "source": [
        "## Exercise 3.9 3D Vector Operations\n",
        "\n",
        "In mathematics, a real valued 3-dimensional vector is a collection of 3 values $\\left(\\begin{array}{c}\n",
        "a_{1}\\\\\n",
        "a_{2}\\\\\n",
        "a_{3}\n",
        "\\end{array}\\right)$, where $a_1,a_2,a_3 \\in \\mathbb{R}$.\n",
        "\n",
        "Binary operation between vectors differs from operation between numbers and some of such operations are defined as such:\n",
        "- addition $+$, which operates between 2 vectors and returns a vector, $\\left(\\begin{array}{c}\n",
        "a_{1}\\\\\n",
        "a_{2}\\\\\n",
        "a_{3}\n",
        "\\end{array}\\right)+\\left(\\begin{array}{c}\n",
        "b_{1}\\\\\n",
        "b_{2}\\\\\n",
        "b_{3}\n",
        "\\end{array}\\right)=\\left(\\begin{array}{c}\n",
        "a_{1}+b_{1}\\\\\n",
        "a_{2}+b_{2}\\\\\n",
        "a_{3}+b_{3}\n",
        "\\end{array}\\right)$,\n",
        "- dot product $\\cdot$, which operates between 2 vector and returns a real number, $\\left(\\begin{array}{c}\n",
        "a_{1}\\\\\n",
        "a_{2}\\\\\n",
        "a_{3}\n",
        "\\end{array}\\right)\\cdot\\left(\\begin{array}{c}\n",
        "b_{1}\\\\\n",
        "b_{2}\\\\\n",
        "b_{3}\n",
        "\\end{array}\\right)=a_{1}b_{1}+a_{2}b_{2}+a_{3}b_{3}$,\n",
        "- cross product $\\times$, which operates between 2 vectors and returns yet another vector, $\\left(\\begin{array}{c}\n",
        "a_{1}\\\\\n",
        "a_{2}\\\\\n",
        "a_{3}\n",
        "\\end{array}\\right)\\times\\left(\\begin{array}{c}\n",
        "b_{1}\\\\\n",
        "b_{2}\\\\\n",
        "b_{3}\n",
        "\\end{array}\\right)=\\left(\\begin{array}{c}\n",
        "a_{2}b_{3}-a_{3}b_{2}\\\\\n",
        "-\\left(a_{1}b_{3}-a_{3}b_{1}\\right)\\\\\n",
        "a_{1}b_{2}-a_{2}b_{1}\n",
        "\\end{array}\\right)$.\n",
        "\n",
        "Write a program that:\n",
        "- Ask user to input 6 float values `x1`, `y1`, `z1`, `x2`, `y2`, `z2`\n",
        "- Stores the 6 values above in a list called `vectors` that contained the tuples `(x1,y1,z1)` and `(x2,y2,z2)`. We will use each of these tuples to represent a 3-dimensional vector.\n",
        "- Print out the list `vectors`.\n",
        "- Implement the 3 vector operations defined above and print out the result. Refer to the example interaction below for the format.\n",
        "\n",
        "Example interaction:\n",
        "\n",
        ">```text\n",
        ">Enter the value for x1: 1\n",
        ">Enter the value for y1: 2\n",
        ">Enter the value for z1: 3\n",
        ">Enter the value for x2: 4\n",
        ">Enter the value for y2: 5\n",
        ">Enter the value for z2: 6\n",
        ">vectors : [(1, 2, 3), (4, 5, 6)]\n",
        ">addition : (1, 2, 3) + (4, 5, 6) = (5, 7, 9)\n",
        ">dot product : (1, 2, 3) . (4, 5, 6) = 32\n",
        ">cross product : (1, 2, 3) x (4, 5, 6) = (-3, 6, -3)\n",
        ">```"
      ]
    },
    {
      "cell_type": "code",
      "execution_count": null,
      "metadata": {
        "id": "1pQhmL_fJqbS",
        "outputId": "5b384f18-f780-4f57-f5c2-21e536e90ede",
        "colab": {
          "base_uri": "https://localhost:8080/"
        }
      },
      "outputs": [
        {
          "output_type": "stream",
          "name": "stdout",
          "text": [
            "Enter the value for x1 :1\n",
            "Enter the value for y1 :2\n",
            "Enter the value for z1 :3\n",
            "Enter the value for x2 :4\n",
            "Enter the value for y2 :5\n",
            "Enter the value for z2 :6\n",
            "(5, 7, 9)\n",
            "32\n",
            "(3, 6, 3)\n"
          ]
        }
      ],
      "source": [
        "vector_x1 = int(input('Enter the value for x1 :'))\n",
        "vector_y1 = int(input('Enter the value for y1 :'))\n",
        "vector_z1 = int(input('Enter the value for z1 :'))\n",
        "vector_x2 = int(input('Enter the value for x2 :'))\n",
        "vector_y2 = int(input('Enter the value for y2 :'))\n",
        "vector_z2 = int(input('Enter the value for z2 :'))\n",
        "vectors = [(vector_x1, vector_y1, vector_z1),(vector_x2, vector_y2, vector_z2)]\n",
        "addition = (vector_x1 + vector_x2, vector_y1 + vector_y2, vector_z1 + vector_z2)\n",
        "print(addition)\n",
        "dot_product = (vector_x1 * vector_x2 + vector_y1 * vector_y2 + vector_z1 * vector_z2)\n",
        "print(dot_product)\n",
        "cross_product = (vector_z1 * vector_y2 - vector_y1 * vector_z2 , vector_z1 * vector_x2 - vector_x1 * vector_z2 , vector_x1 * vector_y2 - vector_y1 * vector_x1)\n",
        "print(cross_product)"
      ]
    }
  ],
  "metadata": {
    "kernelspec": {
      "display_name": "Python 3",
      "language": "python",
      "name": "python3"
    },
    "language_info": {
      "codemirror_mode": {
        "name": "ipython",
        "version": 3
      },
      "file_extension": ".py",
      "mimetype": "text/x-python",
      "name": "python",
      "nbconvert_exporter": "python",
      "pygments_lexer": "ipython3",
      "version": "3.10.2"
    },
    "orig_nbformat": 2,
    "vscode": {
      "interpreter": {
        "hash": "a42ccb73e7d9bfdf27e036f1d2b8b681e55fc0743cc5586bc2474d4a60f4b886"
      }
    },
    "colab": {
      "provenance": [],
      "include_colab_link": true
    }
  },
  "nbformat": 4,
  "nbformat_minor": 0
}